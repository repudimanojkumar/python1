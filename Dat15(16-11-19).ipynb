{
 "cells": [
  {
   "cell_type": "code",
   "execution_count": 5,
   "metadata": {},
   "outputs": [
    {
     "name": "stdout",
     "output_type": "stream",
     "text": [
      "enter emailrepudimanoj123@gmghcg.sncu\n"
     ]
    },
    {
     "data": {
      "text/plain": [
       "'repudimanoj123@gmghcg.sncu'"
      ]
     },
     "execution_count": 5,
     "metadata": {},
     "output_type": "execute_result"
    }
   ],
   "source": [
    "#Validate the EmailID\n",
    "#Example : Username@DomainName.extension\n",
    "#Example : dsps@gmail.com\n",
    "#Username :\n",
    "#Len of string will be [6-15]\n",
    "#No Spl characters except Underscore(_) and dot(.)\n",
    "#Username should not begins with Underscore(_)\n",
    "#All characters set Digits, Lower case and Upper Case\n",
    "#Example : Anil_1889\n",
    "\n",
    "import re\n",
    "def email(a):\n",
    "    z=re.match(r'[a-zA-Z\\d_]+@[a-z]+.[a-z]{2,}',a)\n",
    "    return z\n",
    "a=input(\"enter email\")\n",
    "email(a).group()"
   ]
  },
  {
   "cell_type": "code",
   "execution_count": 1,
   "metadata": {},
   "outputs": [
    {
     "name": "stdout",
     "output_type": "stream",
     "text": [
      "contact saved successfully\n",
      "contact saved successfully\n"
     ]
    }
   ],
   "source": [
    "#Contact Application\n",
    "#Add Contact Details\n",
    "#earch the Contact details\n",
    "#List all theValue\n",
    "#Name 2 : Value\n",
    "#Modify or Update the Contact details\n",
    "#Delete the contact details\n",
    " \n",
    "#1.Create a function to add contact details\n",
    "#2. Import new contact details\n",
    "#3. Merge the contact details\n",
    "#4. Modify or update the contact details.\n",
    "#5.Delete the contact details.\n",
    "dict1={}\n",
    "def contact(name,number):\n",
    "    if name not in dict1:\n",
    "        dict1[name]=number\n",
    "        print(\"contact saved successfully\")\n",
    "    else:\n",
    "        print(\"contact already exists\")\n",
    "contact('manoj','8688789136')\n",
    "contact('koti','8185949491')"
   ]
  },
  {
   "cell_type": "code",
   "execution_count": 2,
   "metadata": {},
   "outputs": [
    {
     "name": "stdout",
     "output_type": "stream",
     "text": [
      "contact saved successfully\n"
     ]
    }
   ],
   "source": [
    "contact('siri','6303439223')"
   ]
  },
  {
   "cell_type": "code",
   "execution_count": 3,
   "metadata": {},
   "outputs": [
    {
     "name": "stdout",
     "output_type": "stream",
     "text": [
      "contact already exists\n"
     ]
    }
   ],
   "source": [
    "contact('koti','6303439223')"
   ]
  },
  {
   "cell_type": "code",
   "execution_count": 4,
   "metadata": {},
   "outputs": [
    {
     "data": {
      "text/plain": [
       "{'manoj': '8688789136', 'koti': '8185949491', 'siri': '6303439223'}"
      ]
     },
     "execution_count": 4,
     "metadata": {},
     "output_type": "execute_result"
    }
   ],
   "source": [
    "dict1"
   ]
  },
  {
   "cell_type": "code",
   "execution_count": 5,
   "metadata": {},
   "outputs": [
    {
     "name": "stdout",
     "output_type": "stream",
     "text": [
      "contact saved successfully\n",
      "contact saved successfully\n"
     ]
    }
   ],
   "source": [
    "contact('raj','49986558488')\n",
    "contact('priya','5198497899')"
   ]
  },
  {
   "cell_type": "code",
   "execution_count": 6,
   "metadata": {},
   "outputs": [
    {
     "data": {
      "text/plain": [
       "{'manoj': '8688789136',\n",
       " 'koti': '8185949491',\n",
       " 'siri': '6303439223',\n",
       " 'raj': '49986558488',\n",
       " 'priya': '5198497899'}"
      ]
     },
     "execution_count": 6,
     "metadata": {},
     "output_type": "execute_result"
    }
   ],
   "source": [
    "dict1\n"
   ]
  },
  {
   "cell_type": "code",
   "execution_count": null,
   "metadata": {},
   "outputs": [],
   "source": []
  },
  {
   "cell_type": "code",
   "execution_count": 7,
   "metadata": {},
   "outputs": [
    {
     "data": {
      "text/plain": [
       "{'manoj': '8688789136',\n",
       " 'koti': '8185949491',\n",
       " 'siri': '6303439223',\n",
       " 'raj': '49986558488',\n",
       " 'priya': '5198497899'}"
      ]
     },
     "execution_count": 7,
     "metadata": {},
     "output_type": "execute_result"
    }
   ],
   "source": [
    "dict1"
   ]
  },
  {
   "cell_type": "code",
   "execution_count": 9,
   "metadata": {},
   "outputs": [
    {
     "name": "stdout",
     "output_type": "stream",
     "text": [
      "enter a name u want to searchpriya\n",
      "not exists\n"
     ]
    }
   ],
   "source": [
    "name=input(\"enter a name u want to search\")\n",
    "a=dict1.pop(name)\n",
    "if name not in dict1:\n",
    "    print(\"not exists\")\n",
    "else:\n",
    "    print(a)"
   ]
  },
  {
   "cell_type": "code",
   "execution_count": 10,
   "metadata": {},
   "outputs": [
    {
     "data": {
      "text/plain": [
       "{'koti': '8185949491', 'siri': '6303439223', 'raj': '49986558488'}"
      ]
     },
     "execution_count": 10,
     "metadata": {},
     "output_type": "execute_result"
    }
   ],
   "source": [
    "dict1\n"
   ]
  },
  {
   "cell_type": "code",
   "execution_count": 11,
   "metadata": {},
   "outputs": [
    {
     "name": "stdout",
     "output_type": "stream",
     "text": [
      "enter a name u want to searchraj\n",
      "not exists\n"
     ]
    }
   ],
   "source": [
    "name=input(\"enter a name u want to search\")\n",
    "a=dict1.pop(name)\n",
    "if name not in dict1:\n",
    "    print(\"not exists\")\n",
    "else:\n",
    "    print(a)"
   ]
  },
  {
   "cell_type": "code",
   "execution_count": 12,
   "metadata": {},
   "outputs": [
    {
     "data": {
      "text/plain": [
       "{'koti': '8185949491', 'siri': '6303439223'}"
      ]
     },
     "execution_count": 12,
     "metadata": {},
     "output_type": "execute_result"
    }
   ],
   "source": [
    "dict1\n"
   ]
  },
  {
   "cell_type": "code",
   "execution_count": 14,
   "metadata": {},
   "outputs": [
    {
     "name": "stdout",
     "output_type": "stream",
     "text": [
      "enter a name u want to searchsiri\n",
      "deleted successfully\n"
     ]
    }
   ],
   "source": [
    "name=input(\"enter a name u want to search\")\n",
    "a=dict1.pop(name)\n",
    "if name not in dict1:\n",
    "    print(\"deleted successfully\")\n",
    "else:\n",
    "    print(a)"
   ]
  },
  {
   "cell_type": "code",
   "execution_count": 15,
   "metadata": {},
   "outputs": [
    {
     "data": {
      "text/plain": [
       "{}"
      ]
     },
     "execution_count": 15,
     "metadata": {},
     "output_type": "execute_result"
    }
   ],
   "source": [
    "dict1\n"
   ]
  },
  {
   "cell_type": "code",
   "execution_count": 16,
   "metadata": {},
   "outputs": [
    {
     "name": "stdout",
     "output_type": "stream",
     "text": [
      "contact saved successfully\n",
      "contact saved successfully\n",
      "contact saved successfully\n",
      "contact saved successfully\n",
      "contact saved successfully\n"
     ]
    }
   ],
   "source": [
    "contact('pujitha','9959998634')\n",
    "contact('siri','9959998634')\n",
    "contact('koti','9959998634')\n",
    "contact('manoj','9959998634')\n",
    "contact('raj','9959998634')"
   ]
  },
  {
   "cell_type": "code",
   "execution_count": 17,
   "metadata": {},
   "outputs": [
    {
     "data": {
      "text/plain": [
       "{'pujitha': '9959998634',\n",
       " 'siri': '9959998634',\n",
       " 'koti': '9959998634',\n",
       " 'manoj': '9959998634',\n",
       " 'raj': '9959998634'}"
      ]
     },
     "execution_count": 17,
     "metadata": {},
     "output_type": "execute_result"
    }
   ],
   "source": [
    "dict1"
   ]
  },
  {
   "cell_type": "code",
   "execution_count": 18,
   "metadata": {},
   "outputs": [
    {
     "data": {
      "text/plain": [
       "'9959998634'"
      ]
     },
     "execution_count": 18,
     "metadata": {},
     "output_type": "execute_result"
    }
   ],
   "source": [
    "dict1.pop(name)"
   ]
  },
  {
   "cell_type": "code",
   "execution_count": 19,
   "metadata": {},
   "outputs": [
    {
     "data": {
      "text/plain": [
       "{'pujitha': '9959998634',\n",
       " 'koti': '9959998634',\n",
       " 'manoj': '9959998634',\n",
       " 'raj': '9959998634'}"
      ]
     },
     "execution_count": 19,
     "metadata": {},
     "output_type": "execute_result"
    }
   ],
   "source": [
    "dict1\n"
   ]
  },
  {
   "cell_type": "code",
   "execution_count": 3,
   "metadata": {},
   "outputs": [
    {
     "name": "stdout",
     "output_type": "stream",
     "text": [
      "Enter your string: Python\n",
      "Python\n"
     ]
    }
   ],
   "source": [
    "s= input(\"Enter your string: \")\n",
    "words = sorted(s.strip().split())\n",
    "for word in words:\n",
    "    print (word)"
   ]
  },
  {
   "cell_type": "code",
   "execution_count": 12,
   "metadata": {},
   "outputs": [
    {
     "data": {
      "text/plain": [
       "90"
      ]
     },
     "execution_count": 12,
     "metadata": {},
     "output_type": "execute_result"
    }
   ],
   "source": [
    "ord('Z')"
   ]
  },
  {
   "cell_type": "code",
   "execution_count": 15,
   "metadata": {},
   "outputs": [
    {
     "name": "stdout",
     "output_type": "stream",
     "text": [
      "enter a stringPyThon\n",
      "P T "
     ]
    }
   ],
   "source": [
    "#a=input(PyThon)\n",
    "#output=PT\n",
    "a=input(\"enter a string\")\n",
    "for i in a:\n",
    "    if ord(i)>=65 and ord(i)<=90:\n",
    "        print(i,end=\" \")"
   ]
  },
  {
   "cell_type": "code",
   "execution_count": 17,
   "metadata": {},
   "outputs": [
    {
     "name": "stdout",
     "output_type": "stream",
     "text": [
      "enter a string python easy language\n"
     ]
    }
   ],
   "source": [
    "# python easy language\n",
    "#output=EASY\n",
    "a=input(\"enter a string\")\n",
    "l=[]\n",
    "l=a.split()\n",
    "l\n",
    "# for i in a:\n",
    "#     print(i.upper(),end=\"\")\n",
    "for i in range(0):\n",
    "    print(i)\n",
    "    "
   ]
  },
  {
   "cell_type": "code",
   "execution_count": null,
   "metadata": {},
   "outputs": [],
   "source": []
  }
 ],
 "metadata": {
  "kernelspec": {
   "display_name": "Python 3",
   "language": "python",
   "name": "python3"
  },
  "language_info": {
   "codemirror_mode": {
    "name": "ipython",
    "version": 3
   },
   "file_extension": ".py",
   "mimetype": "text/x-python",
   "name": "python",
   "nbconvert_exporter": "python",
   "pygments_lexer": "ipython3",
   "version": "3.7.4"
  }
 },
 "nbformat": 4,
 "nbformat_minor": 2
}
