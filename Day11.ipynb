{
 "cells": [
  {
   "cell_type": "markdown",
   "metadata": {},
   "source": [
    "# Files\n",
    "## Text files \n",
    "## Binary files"
   ]
  },
  {
   "cell_type": "code",
   "execution_count": 2,
   "metadata": {},
   "outputs": [
    {
     "name": "stdout",
     "output_type": "stream",
     "text": [
      "file name: manoj.txt\n",
      "is file readable: <built-in method readable of _io.TextIOWrapper object at 0x0000017BA366F668>\n",
      "is file writable: <built-in method writable of _io.TextIOWrapper object at 0x0000017BA366F668>\n",
      "is file closed: False\n",
      "is file closed: True\n"
     ]
    }
   ],
   "source": [
    "f=open(\"manoj.txt\",'w')\n",
    "print(\"file name:\",f.name)\n",
    "print(\"is file readable:\",f.readable)\n",
    "print(\"is file writable:\",f.writable)\n",
    "print(\"is file closed:\",f.closed)\n",
    "f.close()\n",
    "print(\"is file closed:\",f.closed)"
   ]
  },
  {
   "cell_type": "code",
   "execution_count": 45,
   "metadata": {},
   "outputs": [
    {
     "name": "stdout",
     "output_type": "stream",
     "text": [
      "data written to the file successfulluy\n"
     ]
    }
   ],
   "source": [
    "f=open(\"abc.txt\",'w')\n",
    "f.write(\"Durga\\n\")\n",
    "f.write(\"Software\\n\")\n",
    "f.writelines(\"Solution\\n\")\n",
    "print(\"data written to the file successfulluy\")\n",
    "f.close()"
   ]
  },
  {
   "cell_type": "code",
   "execution_count": 37,
   "metadata": {},
   "outputs": [],
   "source": [
    "f=open(\"doc\",'w')\n",
    "f.writelines([\"manoj \\n kumar\"])\n",
    "f.close()"
   ]
  },
  {
   "cell_type": "code",
   "execution_count": 42,
   "metadata": {},
   "outputs": [],
   "source": [
    "f=open(\"doc\",'w')\n",
    "l=[\"a\"]\n",
    "f.writelines(l)\n",
    "f.close()"
   ]
  },
  {
   "cell_type": "code",
   "execution_count": 28,
   "metadata": {},
   "outputs": [
    {
     "name": "stdout",
     "output_type": "stream",
     "text": [
      "DurgaSoftwareSolution\n"
     ]
    }
   ],
   "source": [
    "f=open(\"abc.txt\",'r')\n",
    "data=f.read()\n",
    "print(data)\n",
    "f.close()"
   ]
  },
  {
   "cell_type": "code",
   "execution_count": 52,
   "metadata": {},
   "outputs": [
    {
     "name": "stdout",
     "output_type": "stream",
     "text": [
      "Du\n"
     ]
    }
   ],
   "source": [
    "f=open(\"abc.txt\",'r')\n",
    "data=f.read()\n",
    "print(data)\n",
    "f.close()"
   ]
  },
  {
   "cell_type": "code",
   "execution_count": 58,
   "metadata": {},
   "outputs": [
    {
     "name": "stdout",
     "output_type": "stream",
     "text": [
      "Durga\n",
      "Software\n"
     ]
    }
   ],
   "source": [
    "f=open(\"abc.txt\",'r')\n",
    "line1=f.readline()\n",
    "print(line,end=\"\")\n",
    "line2=f.readline()\n",
    "print(line2,end=\"\")\n",
    "f.close()"
   ]
  },
  {
   "cell_type": "code",
   "execution_count": 71,
   "metadata": {},
   "outputs": [
    {
     "name": "stdout",
     "output_type": "stream",
     "text": [
      "Durga\n",
      "Software\n",
      "Solution\n"
     ]
    }
   ],
   "source": [
    "f=open(\"abc.txt\",'r')\n",
    "lines=f.readlines()\n",
    "for line in lines:\n",
    "    print(line,end=\"\")\n",
    "f.close()"
   ]
  },
  {
   "cell_type": "code",
   "execution_count": 74,
   "metadata": {},
   "outputs": [
    {
     "name": "stdout",
     "output_type": "stream",
     "text": [
      "Durga\n",
      "Software\n",
      "Solution\n",
      "Hello allHello allHello all\n"
     ]
    }
   ],
   "source": [
    "f=open(\"abc.txt\",'a')\n",
    "f.write(\"Hello all\")\n",
    "f.close()\n",
    "f=open(\"abc.txt\",'r')\n",
    "print(f.read())"
   ]
  },
  {
   "cell_type": "markdown",
   "metadata": {},
   "source": [
    "## with keyword\n",
    "The with statement can be used while openind a file\n",
    "we can use this to group file operation statements within a block\n",
    "The advantage of with statement is it will take care closing of file,after completing all operations automatically even in the case of exception also and we are not required to close explicitely "
   ]
  },
  {
   "cell_type": "code",
   "execution_count": 77,
   "metadata": {},
   "outputs": [],
   "source": [
    "with open(\"abc.txt\",'w') as f:\n",
    "    f.write(\"durga\\n\")\n",
    "    f.write(\"Software\\n\")\n",
    "    f.write(\"Solutions\\n\")\n",
    "    f.close()"
   ]
  },
  {
   "cell_type": "code",
   "execution_count": 83,
   "metadata": {},
   "outputs": [
    {
     "name": "stdout",
     "output_type": "stream",
     "text": [
      "is file closed: False\n",
      "is file closed: True\n"
     ]
    }
   ],
   "source": [
    "with open(\"abc.txt\",'w') as f:\n",
    "    f.write(\"durga\\n\")\n",
    "    f.write(\"Software\\n\")\n",
    "    f.write(\"Solutions\\n\") \n",
    "    print(\"is file closed:\",f.closed)\n",
    "print(\"is file closed:\",f.closed)"
   ]
  },
  {
   "cell_type": "code",
   "execution_count": 82,
   "metadata": {},
   "outputs": [
    {
     "name": "stdout",
     "output_type": "stream",
     "text": [
      "is file closed: False\n",
      "is file closed: True\n"
     ]
    }
   ],
   "source": [
    "with open(\"abc.txt\",'w') as f:\n",
    "    f.write(\"durga\\n\")\n",
    "    f.write(\"Software\\n\")\n",
    "    f.write(\"Solutions\\n\")\n",
    "    print(\"is file closed:\",f.closed)\n",
    "print(\"is file closed:\",f.closed)"
   ]
  },
  {
   "cell_type": "markdown",
   "metadata": {},
   "source": [
    "# tell\n",
    "we can use tell method to return current position of the cursor (file pointer)"
   ]
  },
  {
   "cell_type": "code",
   "execution_count": 85,
   "metadata": {},
   "outputs": [
    {
     "name": "stdout",
     "output_type": "stream",
     "text": [
      "0\n",
      "du\n",
      "2\n",
      "rga\n",
      "5\n"
     ]
    }
   ],
   "source": [
    "f=open(\"abc.txt\",'r')\n",
    "print(f.tell())\n",
    "print(f.read(2))\n",
    "print(f.tell())\n",
    "print(f.read(3))\n",
    "print(f.tell())"
   ]
  },
  {
   "cell_type": "markdown",
   "metadata": {},
   "source": [
    "# seek\n",
    "we can use seek() method to move cursor(file pointer) to specified location"
   ]
  },
  {
   "cell_type": "code",
   "execution_count": 100,
   "metadata": {},
   "outputs": [
    {
     "name": "stdout",
     "output_type": "stream",
     "text": [
      "1\n",
      "urga\n",
      "\n"
     ]
    }
   ],
   "source": [
    "f=open(\"abc.txt\",'r')\n",
    "print(f.seek(1))\n",
    "print(f.readline())\n"
   ]
  },
  {
   "cell_type": "code",
   "execution_count": 105,
   "metadata": {},
   "outputs": [
    {
     "name": "stdout",
     "output_type": "stream",
     "text": [
      "all students are good\n",
      "the current cursor position: 21\n",
      "the current cursor position: 17\n",
      "data after modification:\n",
      "all students are GEMS!!!\n"
     ]
    }
   ],
   "source": [
    "data=\"all students are good\"\n",
    "f=open(\"abc.txt\",'w')\n",
    "f.write(data)\n",
    "with open(\"abc.txt\",'r+') as f:\n",
    "    text=f.read()\n",
    "    print(text)\n",
    "    print(\"the current cursor position:\",f.tell())\n",
    "    f.seek(17)\n",
    "    print(\"the current cursor position:\",f.tell())\n",
    "    f.write(\"GEMS!!!\")\n",
    "    f.seek(0)\n",
    "    text=f.read()\n",
    "    print(\"data after modification:\")\n",
    "    print(text)"
   ]
  },
  {
   "cell_type": "markdown",
   "metadata": {},
   "source": [
    "## OS module "
   ]
  },
  {
   "cell_type": "code",
   "execution_count": 121,
   "metadata": {},
   "outputs": [
    {
     "name": "stdout",
     "output_type": "stream",
     "text": [
      "enter file name:manoj.txt\n",
      "file exists: manoj.txt\n",
      "the content of file is : manoj.txt\n",
      "\n"
     ]
    }
   ],
   "source": [
    "import os,sys\n",
    "fname=input(\"enter file name:\")\n",
    "if os.path.isfile(fname):\n",
    "    print(\"file exists:\",fname)\n",
    "    f=open(fname,\"r\")\n",
    "else:\n",
    "    print(\"file does not exists:\",fname)\n",
    "    sys.exit(0)\n",
    "print(\"the content of file is :\",fname) \n",
    "data=f.read()\n",
    "print(data)"
   ]
  },
  {
   "cell_type": "code",
   "execution_count": 122,
   "metadata": {},
   "outputs": [
    {
     "name": "stdout",
     "output_type": "stream",
     "text": [
      "Enter file name: abc.txt\n",
      "Number of words:\n",
      "4\n"
     ]
    }
   ],
   "source": [
    "#Write a program to print the number of lines,words and character present in the given file\n",
    "fname = input(\"Enter file name: \")\n",
    " \n",
    "num_words = 0\n",
    " \n",
    "with open(fname, 'r') as f:\n",
    "    for line in f:\n",
    "        words = line.split()\n",
    "        num_words += len(words)\n",
    "print(\"Number of words:\")\n",
    "print(num_words)\n",
    "\n"
   ]
  },
  {
   "cell_type": "code",
   "execution_count": 133,
   "metadata": {},
   "outputs": [
    {
     "name": "stdout",
     "output_type": "stream",
     "text": [
      "Enter the name of the file:abc.txt\n",
      "1\n",
      "4\n",
      "24\n"
     ]
    }
   ],
   "source": [
    "import os,sys\n",
    "fname = input(\"Enter the name of the file:\")\n",
    "infile = open(fname, 'r')\n",
    "lines = 0\n",
    "words = 0\n",
    "characters = 0\n",
    "for line in infile:\n",
    "    wordslist = line.split()\n",
    "    lines = lines + 1\n",
    "    words = words + len(wordslist)\n",
    "    characters = characters + len(line)\n",
    "print(lines)\n",
    "print(words)\n",
    "print(characters)"
   ]
  },
  {
   "cell_type": "markdown",
   "metadata": {},
   "source": [
    "# zip files\n",
    "A ZIP Code is a postal code used by the United States Postal Service (USPS). ... The term ZIP is an acronym for Zone Improvement Plan; it was chosen to suggest that the mail travels more efficiently and quickly (zipping along) when senders use the code in the postal address."
   ]
  },
  {
   "cell_type": "code",
   "execution_count": 2,
   "metadata": {},
   "outputs": [
    {
     "name": "stdout",
     "output_type": "stream",
     "text": [
      "Collecting Zipfile\n",
      "Note: you may need to restart the kernel to use updated packages.\n"
     ]
    },
    {
     "name": "stderr",
     "output_type": "stream",
     "text": [
      "  ERROR: Could not find a version that satisfies the requirement Zipfile (from versions: none)\n",
      "ERROR: No matching distribution found for Zipfile\n"
     ]
    }
   ],
   "source": [
    "pip install Zipfile\n"
   ]
  },
  {
   "cell_type": "code",
   "execution_count": 4,
   "metadata": {},
   "outputs": [
    {
     "ename": "ModuleNotFoundError",
     "evalue": "No module named 'Zipfile'",
     "output_type": "error",
     "traceback": [
      "\u001b[1;31m---------------------------------------------------------------------------\u001b[0m",
      "\u001b[1;31mModuleNotFoundError\u001b[0m                       Traceback (most recent call last)",
      "\u001b[1;32m<ipython-input-4-e4421432aa58>\u001b[0m in \u001b[0;36m<module>\u001b[1;34m\u001b[0m\n\u001b[0;32m      1\u001b[0m \u001b[1;31m#We have to create zip files class object with name of thw zip file,mode and constant ZIP_DEFLATED.This constant represent we are creating zip file\u001b[0m\u001b[1;33m\u001b[0m\u001b[1;33m\u001b[0m\u001b[1;33m\u001b[0m\u001b[0m\n\u001b[0;32m      2\u001b[0m \u001b[1;31m#f=zipfiles(\"files.zip\",\"w\",\"ZIP_DEFLATED\")\u001b[0m\u001b[1;33m\u001b[0m\u001b[1;33m\u001b[0m\u001b[1;33m\u001b[0m\u001b[0m\n\u001b[1;32m----> 3\u001b[1;33m \u001b[1;32mfrom\u001b[0m \u001b[0mZipfile\u001b[0m \u001b[1;32mimport\u001b[0m \u001b[1;33m*\u001b[0m\u001b[1;33m\u001b[0m\u001b[1;33m\u001b[0m\u001b[0m\n\u001b[0m\u001b[0;32m      4\u001b[0m \u001b[0mf\u001b[0m\u001b[1;33m=\u001b[0m\u001b[0mZipfile\u001b[0m\u001b[1;33m(\u001b[0m\u001b[1;34m\"files.zip\"\u001b[0m\u001b[1;33m,\u001b[0m\u001b[1;34m'w'\u001b[0m\u001b[1;33m)\u001b[0m\u001b[1;33m\u001b[0m\u001b[1;33m\u001b[0m\u001b[0m\n\u001b[0;32m      5\u001b[0m \u001b[0mf\u001b[0m\u001b[1;33m.\u001b[0m\u001b[0mwrite\u001b[0m\u001b[1;33m(\u001b[0m\u001b[1;34m\"files.zip\"\u001b[0m\u001b[1;33m,\u001b[0m\u001b[1;34m'r'\u001b[0m\u001b[1;33m)\u001b[0m\u001b[1;33m\u001b[0m\u001b[1;33m\u001b[0m\u001b[0m\n",
      "\u001b[1;31mModuleNotFoundError\u001b[0m: No module named 'Zipfile'"
     ]
    }
   ],
   "source": [
    "#We have to create zip files class object with name of thw zip file,mode and constant ZIP_DEFLATED.This constant represent we are creating zip file\n",
    "#f=zipfiles(\"files.zip\",\"w\",\"ZIP_DEFLATED\")\n",
    "from Zipfile import *\n",
    "f=Zipfile(\"files.zip\",'w')\n",
    "f.write(\"files.zip\",'r')\n",
    "f.write(\"files.zip\")\n",
    "f.close()\n",
    "print(\"files.Zip file created successfully\")\n"
   ]
  },
  {
   "cell_type": "code",
   "execution_count": 6,
   "metadata": {},
   "outputs": [
    {
     "data": {
      "text/plain": [
       "24"
      ]
     },
     "execution_count": 6,
     "metadata": {},
     "output_type": "execute_result"
    }
   ],
   "source": [
    "def fact(x):\n",
    "    f=1\n",
    "    if x==1:\n",
    "        return 1\n",
    "    f=x*fact(x-1)\n",
    "    return f\n",
    "fact(4)"
   ]
  },
  {
   "cell_type": "code",
   "execution_count": null,
   "metadata": {},
   "outputs": [],
   "source": []
  }
 ],
 "metadata": {
  "kernelspec": {
   "display_name": "Python 3",
   "language": "python",
   "name": "python3"
  },
  "language_info": {
   "codemirror_mode": {
    "name": "ipython",
    "version": 3
   },
   "file_extension": ".py",
   "mimetype": "text/x-python",
   "name": "python",
   "nbconvert_exporter": "python",
   "pygments_lexer": "ipython3",
   "version": "3.7.4"
  }
 },
 "nbformat": 4,
 "nbformat_minor": 2
}
