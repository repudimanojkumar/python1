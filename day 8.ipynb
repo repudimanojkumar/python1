{
 "cells": [
  {
   "cell_type": "markdown",
   "metadata": {},
   "source": [
    "# Nested functions\n",
    "\n",
    "### functions inside a function"
   ]
  },
  {
   "cell_type": "code",
   "execution_count": 2,
   "metadata": {},
   "outputs": [
    {
     "data": {
      "text/plain": [
       "16"
      ]
     },
     "execution_count": 2,
     "metadata": {},
     "output_type": "execute_result"
    }
   ],
   "source": [
    "def square(x):\n",
    "    return x*x\n",
    "def cube(x):\n",
    "    return square(x)*x\n",
    "cube(4)"
   ]
  },
  {
   "cell_type": "code",
   "execution_count": null,
   "metadata": {},
   "outputs": [],
   "source": [
    "# write a function t check the given no is even or odd\n",
    "# create another function to print all the even numbers in the \n",
    "# given range using previous function\n",
    "def even_or_odd(x):\n",
    "#      ..........\n",
    "def even_numbers_in_the_given_range(start,stop) "
   ]
  },
  {
   "cell_type": "code",
   "execution_count": 1,
   "metadata": {},
   "outputs": [
    {
     "name": "stdout",
     "output_type": "stream",
     "text": [
      "2\n",
      "4\n",
      "6\n",
      "8\n",
      "10\n"
     ]
    }
   ],
   "source": [
    "def even_or_odd(x):\n",
    "    if x%2==0:\n",
    "        return x\n",
    "def even_numbers_in_the_given_range(x,y):\n",
    "    list=[]\n",
    "    while(x<=y):\n",
    "        if even_or_odd(x)!= None:\n",
    "            list.append(even_or_odd(x))\n",
    "        x+=1 \n",
    "    for i in list:\n",
    "        print(i)\n",
    "even_numbers_in_the_given_range(2,10)\n"
   ]
  },
  {
   "cell_type": "code",
   "execution_count": 4,
   "metadata": {},
   "outputs": [
    {
     "name": "stdout",
     "output_type": "stream",
     "text": [
      "2\n",
      "4\n",
      "6\n",
      "8\n",
      "10\n"
     ]
    }
   ],
   "source": [
    "def even_or_odd(x):\n",
    "    if x%2==0:\n",
    "        return True\n",
    "def even_numbers_in_the_given_range(start,stop):\n",
    "    for i in range(start,stop+1):\n",
    "        if even_or_odd(i):\n",
    "            print(i)\n",
    "even_numbers_in_the_given_range(2,10)\n"
   ]
  },
  {
   "cell_type": "markdown",
   "metadata": {},
   "source": [
    "# recursive functions\n",
    "\n",
    "\n",
    "### calling a function inside the same function"
   ]
  },
  {
   "cell_type": "code",
   "execution_count": 5,
   "metadata": {},
   "outputs": [
    {
     "data": {
      "text/plain": [
       "120"
      ]
     },
     "execution_count": 5,
     "metadata": {},
     "output_type": "execute_result"
    }
   ],
   "source": [
    "def fact(x):\n",
    "    f=1\n",
    "    if x==1:\n",
    "        return 1\n",
    "    f=x*fact(x-1)\n",
    "    return f\n",
    "fact(5)"
   ]
  },
  {
   "cell_type": "code",
   "execution_count": 5,
   "metadata": {},
   "outputs": [],
   "source": [
    "# print first 10 fibonacci series numbers using without and with\n",
    "#using recursive function\n",
    "#0,1,2,3,5,8,13,21,34\n",
    "def fib(x,y):\n",
    "    x=0\n",
    "    y=1\n",
    "    sum=0\n",
    "    count=0\n",
    "    print(x)\n",
    "    count\n",
    "    print(y)\n",
    "    \n",
    "    return x"
   ]
  },
  {
   "cell_type": "code",
   "execution_count": 1,
   "metadata": {},
   "outputs": [
    {
     "name": "stdout",
     "output_type": "stream",
     "text": [
      "Enter number of terms:10\n",
      "0\n",
      "1\n",
      "1\n",
      "2\n",
      "3\n",
      "5\n",
      "8\n",
      "13\n",
      "21\n",
      "34\n"
     ]
    }
   ],
   "source": [
    "\n",
    "def fib(x):\n",
    "    if(x <= 1):\n",
    "        return x\n",
    "    else:\n",
    "        return(fib(x-1) + fib(x-2))\n",
    "x = int(input(\"Enter number of terms:\"))\n",
    "for iter in range(x):\n",
    "    print(fib(iter))"
   ]
  },
  {
   "cell_type": "code",
   "execution_count": 1,
   "metadata": {},
   "outputs": [
    {
     "name": "stdout",
     "output_type": "stream",
     "text": [
      "How many terms? 10\n",
      "\n",
      "0\n",
      "1\n",
      "1\n",
      "2\n",
      "3\n",
      "5\n",
      "8\n",
      "13\n",
      "21\n",
      "34\n"
     ]
    }
   ],
   "source": [
    "fib = int(input(\"How many terms? \"))\n",
    "a, b = 0, 1\n",
    "count = 0\n",
    "if fib <= 0:\n",
    "   print(\"0\")\n",
    "elif fib == 1:\n",
    "   print(\"\",fib,\":\")\n",
    "   print(a)\n",
    "else:\n",
    "   print(\"\")\n",
    "   while count < fib:\n",
    "       print(a)\n",
    "       nth = a + b\n",
    "       a = b\n",
    "       b = nth\n",
    "       count += 1\n",
    "    "
   ]
  },
  {
   "cell_type": "code",
   "execution_count": null,
   "metadata": {},
   "outputs": [],
   "source": [
    "a=0\n",
    "b=1\n",
    "count=0\n",
    "for i in x:\n",
    "    if a==0:"
   ]
  }
 ],
 "metadata": {
  "kernelspec": {
   "display_name": "Python 3",
   "language": "python",
   "name": "python3"
  },
  "language_info": {
   "codemirror_mode": {
    "name": "ipython",
    "version": 3
   },
   "file_extension": ".py",
   "mimetype": "text/x-python",
   "name": "python",
   "nbconvert_exporter": "python",
   "pygments_lexer": "ipython3",
   "version": "3.7.4"
  }
 },
 "nbformat": 4,
 "nbformat_minor": 2
}
