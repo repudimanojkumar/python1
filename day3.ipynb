{
 "cells": [
  {
   "cell_type": "code",
   "execution_count": 1,
   "metadata": {},
   "outputs": [
    {
     "name": "stdout",
     "output_type": "stream",
     "text": [
      "10\n",
      "20\n",
      "30\n",
      "40\n"
     ]
    }
   ],
   "source": [
    "l=[10,20,30,40]\n",
    "i=0\n",
    "while i<len(l):\n",
    "    print(l[i])\n",
    "    i=i+1"
   ]
  },
  {
   "cell_type": "markdown",
   "metadata": {},
   "source": [
    "## for"
   ]
  },
  {
   "cell_type": "markdown",
   "metadata": {},
   "source": [
    "### for loop with range() function"
   ]
  },
  {
   "cell_type": "code",
   "execution_count": 43,
   "metadata": {},
   "outputs": [
    {
     "name": "stdout",
     "output_type": "stream",
     "text": [
      "10\n",
      "20\n",
      "30\n"
     ]
    }
   ],
   "source": [
    "l=[10,20,30,40,50]\n",
    "for i in range(3):\n",
    "    print(l[i])"
   ]
  },
  {
   "cell_type": "code",
   "execution_count": null,
   "metadata": {},
   "outputs": [],
   "source": [
    "students=[]\n",
    "for num in range(5):\n",
    "    x=input(\"Enter name of students: \")\n",
    "    students.append(x)\n",
    "\n",
    "marks=[]\n",
    "for num in range(5):\n",
    "    y=input(\"Enter marks of students:\")\n",
    "    marks.append(y)\n",
    "\n",
    "report = input(\"Do you want to print class report?: \")\n",
    "if report == 'yes':\n",
    "    print(x[0],\":\", y[0])\n",
    "    print(x[1],\":\", y[1])\n",
    "    print(x[2],\":\", y[2])\n",
    "    print(x[3],\":\", y[3])\n",
    "    print(x[4],\":\", y[4])"
   ]
  },
  {
   "cell_type": "code",
   "execution_count": 4,
   "metadata": {},
   "outputs": [
    {
     "name": "stdout",
     "output_type": "stream",
     "text": [
      "how many student details you want2\n",
      "enter the details 1\n",
      "namemanoj\n",
      "age22\n",
      "addressjntu\n",
      "enter the details 2\n",
      "namekoti\n",
      "age22\n",
      "addresskphb\n",
      "[['manoj', 22, 'jntu'], ['koti', 22, 'kphb']] no\n"
     ]
    }
   ],
   "source": [
    "a=int(input(\"how many student details you want\"))\n",
    "master=[]\n",
    "for i in range(1,a+1):\n",
    "    l=[]\n",
    "    print(\"enter the details\",i)\n",
    "    name=input(\"name\")\n",
    "    age=int(input(\"age\"))\n",
    "    address=input(\"address\")\n",
    "    l.extend([name,age,address])\n",
    "    master.append(l)\n",
    "print(master,end=\" \")\n",
    "\n",
    "\n",
    "\n",
    "    \n",
    "    \n",
    "    "
   ]
  },
  {
   "cell_type": "markdown",
   "metadata": {},
   "source": [
    "## accept name as input and search for that name in the master list\n",
    "#### if the name is available in the master list print yes or else print no\n",
    "#### print the count of the students whose age is >20"
   ]
  },
  {
   "cell_type": "code",
   "execution_count": 20,
   "metadata": {},
   "outputs": [
    {
     "name": "stdout",
     "output_type": "stream",
     "text": [
      "enter the name u wantmanoj\n",
      "yes\n",
      "yes\n",
      "no\n"
     ]
    }
   ],
   "source": [
    "a=input(\"enter the name u want\")\n",
    "for i in master:\n",
    "    print(\"yes\")\n",
    "else:\n",
    "    print(\"no\")"
   ]
  },
  {
   "cell_type": "code",
   "execution_count": 12,
   "metadata": {},
   "outputs": [
    {
     "data": {
      "text/plain": [
       "[['manoj', 22, 'jntu'], ['koti', 22, 'kphb']]"
      ]
     },
     "execution_count": 12,
     "metadata": {},
     "output_type": "execute_result"
    }
   ],
   "source": [
    "master"
   ]
  },
  {
   "cell_type": "code",
   "execution_count": 14,
   "metadata": {},
   "outputs": [
    {
     "ename": "SyntaxError",
     "evalue": "invalid syntax (<ipython-input-14-cf7ada7a7044>, line 2)",
     "output_type": "error",
     "traceback": [
      "\u001b[1;36m  File \u001b[1;32m\"<ipython-input-14-cf7ada7a7044>\"\u001b[1;36m, line \u001b[1;32m2\u001b[0m\n\u001b[1;33m    if a==master[]:\u001b[0m\n\u001b[1;37m                 ^\u001b[0m\n\u001b[1;31mSyntaxError\u001b[0m\u001b[1;31m:\u001b[0m invalid syntax\n"
     ]
    }
   ],
   "source": [
    "a=input(\"enter name u want\")\n",
    "if a==master:\n",
    "    print(\"yes\")\n",
    "else:\n",
    "    print(\"no\")"
   ]
  }
 ],
 "metadata": {
  "kernelspec": {
   "display_name": "Python 3",
   "language": "python",
   "name": "python3"
  },
  "language_info": {
   "codemirror_mode": {
    "name": "ipython",
    "version": 3
   },
   "file_extension": ".py",
   "mimetype": "text/x-python",
   "name": "python",
   "nbconvert_exporter": "python",
   "pygments_lexer": "ipython3",
   "version": "3.7.4"
  }
 },
 "nbformat": 4,
 "nbformat_minor": 2
}
