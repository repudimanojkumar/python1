{
 "cells": [
  {
   "cell_type": "code",
   "execution_count": 24,
   "metadata": {},
   "outputs": [
    {
     "data": {
      "text/plain": [
       "' pythoneasy'"
      ]
     },
     "execution_count": 24,
     "metadata": {},
     "output_type": "execute_result"
    }
   ],
   "source": [
    "a='Learn Python Programming EASy'\n",
    "x=a.split()\n",
    "x\n",
    "y=[]\n",
    "for i in x:\n",
    "    y.append(i)\n",
    "b =\" \"\n",
    "for i in range(int(len(y))):\n",
    "    \n",
    "               \n",
    "    if (i%2)==1:\n",
    "        b+=y[i] \n",
    "        b\n",
    "b.lower()"
   ]
  },
  {
   "cell_type": "code",
   "execution_count": 4,
   "metadata": {},
   "outputs": [
    {
     "name": "stdout",
     "output_type": "stream",
     "text": [
      "enter a stringmanoj\n"
     ]
    },
    {
     "ename": "TypeError",
     "evalue": "unsupported operand type(s) for +: 'int' and 'str'",
     "output_type": "error",
     "traceback": [
      "\u001b[1;31m---------------------------------------------------------------------------\u001b[0m",
      "\u001b[1;31mTypeError\u001b[0m                                 Traceback (most recent call last)",
      "\u001b[1;32m<ipython-input-4-b316cee6e667>\u001b[0m in \u001b[0;36m<module>\u001b[1;34m\u001b[0m\n\u001b[0;32m      6\u001b[0m             \u001b[0mtemp\u001b[0m \u001b[1;33m+=\u001b[0m \u001b[0mch\u001b[0m\u001b[1;33m\u001b[0m\u001b[1;33m\u001b[0m\u001b[0m\n\u001b[0;32m      7\u001b[0m         \u001b[1;32melse\u001b[0m\u001b[1;33m:\u001b[0m\u001b[1;33m\u001b[0m\u001b[1;33m\u001b[0m\u001b[0m\n\u001b[1;32m----> 8\u001b[1;33m             \u001b[0mSum\u001b[0m\u001b[1;33m=\u001b[0m\u001b[0msum\u001b[0m\u001b[1;33m(\u001b[0m\u001b[0mtemp\u001b[0m\u001b[1;33m)\u001b[0m\u001b[1;33m\u001b[0m\u001b[1;33m\u001b[0m\u001b[0m\n\u001b[0m\u001b[0;32m      9\u001b[0m             \u001b[0mtemp\u001b[0m \u001b[1;33m=\u001b[0m \u001b[1;34m\"0\"\u001b[0m\u001b[1;33m\u001b[0m\u001b[1;33m\u001b[0m\u001b[0m\n\u001b[0;32m     10\u001b[0m \u001b[1;32mreturn\u001b[0m \u001b[0mSum\u001b[0m \u001b[1;33m+\u001b[0m\u001b[0mint\u001b[0m \u001b[1;33m(\u001b[0m\u001b[0mtemp\u001b[0m\u001b[1;33m)\u001b[0m\u001b[1;33m\u001b[0m\u001b[1;33m\u001b[0m\u001b[0m\n",
      "\u001b[1;31mTypeError\u001b[0m: unsupported operand type(s) for +: 'int' and 'str'"
     ]
    }
   ],
   "source": [
    "a=input(\"enter a string\")\n",
    "temp = \"\" \n",
    "Sum = 0 \n",
    "for i in a: \n",
    "        if i.isdigit(): \n",
    "            temp += ch \n",
    "        else:  \n",
    "            Sum=sum(temp)\n",
    "            temp = \"0\"\n",
    "return Sum +int (temp) \n",
    "        "
   ]
  },
  {
   "cell_type": "code",
   "execution_count": 1,
   "metadata": {},
   "outputs": [
    {
     "data": {
      "text/plain": [
       "48"
      ]
     },
     "execution_count": 1,
     "metadata": {},
     "output_type": "execute_result"
    }
   ],
   "source": [
    "ord('0')"
   ]
  },
  {
   "cell_type": "code",
   "execution_count": 6,
   "metadata": {},
   "outputs": [
    {
     "name": "stdout",
     "output_type": "stream",
     "text": [
      "enter a stringmanoj\n",
      "MNOJ"
     ]
    }
   ],
   "source": [
    "a=input(\"enter a string\")\n",
    "for i in a:\n",
    "    if ord(i)>97 and ord(i)<122:\n",
    "        print(i.upper(),end=\"\")\n",
    "    elif ord(i)>65 and ord(i)<90:\n",
    "        print(i.lower(),end=\"\")"
   ]
  },
  {
   "cell_type": "code",
   "execution_count": 55,
   "metadata": {},
   "outputs": [
    {
     "name": "stdout",
     "output_type": "stream",
     "text": [
      "enter a number9876\n",
      "[9876]\n",
      "largest number 9\n"
     ]
    }
   ],
   "source": [
    "#The program must accept an integer N as the input. Need to print the largest digit from the given number.\n",
    "\n",
    "#Example Input/Output 1:\n",
    "\n",
    "#Input1:\n",
    "\n",
    "#6918\n",
    "a=input(\"enter a number\")\n",
    "x=a.split()\n",
    "x\n",
    "y=[]\n",
    "for i in x:\n",
    "    y.append(int(i))\n",
    "print(y)\n",
    "y.sort()\n",
    "print(\"largest number\",max(a))"
   ]
  },
  {
   "cell_type": "code",
   "execution_count": null,
   "metadata": {},
   "outputs": [],
   "source": [
    "#The program must accept an integer N as the input. Need to print the output in the following manner.\n",
    "\n",
    "#Example Input/Output 1:\n",
    "\n",
    "#Input1:\n",
    "\n",
    "#145\n",
    "\n",
    "#Output:\n",
    "\n",
    "#YES\n",
    "\n",
    "#Input2:\n",
    "\n",
    "#123\n",
    "\n",
    "#Output:\n",
    "\n",
    "#NO\n"
   ]
  },
  {
   "cell_type": "code",
   "execution_count": 16,
   "metadata": {},
   "outputs": [
    {
     "name": "stdout",
     "output_type": "stream",
     "text": [
      "enter a number1234\n",
      "6\n"
     ]
    }
   ],
   "source": [
    "#The program must accept an integer N as the input. Need to print the output in the following manner.\n",
    "#Boundary Condition(s):\n",
    "#1 <= N <= 100000\n",
    "#Example Input/Output 1:\n",
    "#Input1:\n",
    "#1889\n",
    "#Output:\n",
    "#16\n",
    "#Input2:\n",
    "#19872\n",
    "#Output:\n",
    "#10\n",
    "a=input(\"enter a number\")\n",
    "sum=0\n",
    "for i in (a):\n",
    "    if ord(i)<58 and ord(i)>48:\n",
    "        if int(i)%2==0:\n",
    "            sum=sum+int(i)\n",
    "print(sum)\n",
    "            \n",
    "    "
   ]
  },
  {
   "cell_type": "code",
   "execution_count": 79,
   "metadata": {},
   "outputs": [
    {
     "data": {
      "text/plain": [
       "'4'"
      ]
     },
     "execution_count": 79,
     "metadata": {},
     "output_type": "execute_result"
    }
   ],
   "source": [
    "#The program must accept an integer N as the input. Need to print the output in the following manner.\n",
    "\n",
    "#Example Input/Output 1:\n",
    "\n",
    "#Input1:\n",
    "\n",
    "#145\n",
    "\n",
    "#Output:\n",
    "\n",
    "#YES\n",
    "\n",
    "#Input2:\n",
    "\n",
    "#123\n",
    "\n",
    "#Output:\n",
    "\n",
    "#NO\n"
   ]
  },
  {
   "cell_type": "code",
   "execution_count": null,
   "metadata": {},
   "outputs": [],
   "source": [
    "a=input(\"enter a string\")\n",
    "\n",
    "\n",
    "\n"
   ]
  },
  {
   "cell_type": "code",
   "execution_count": 35,
   "metadata": {},
   "outputs": [
    {
     "name": "stdout",
     "output_type": "stream",
     "text": [
      "****\n"
     ]
    }
   ],
   "source": [
    "print(\"*\"*4)"
   ]
  },
  {
   "cell_type": "code",
   "execution_count": null,
   "metadata": {},
   "outputs": [],
   "source": []
  }
 ],
 "metadata": {
  "kernelspec": {
   "display_name": "Python 3",
   "language": "python",
   "name": "python3"
  },
  "language_info": {
   "codemirror_mode": {
    "name": "ipython",
    "version": 3
   },
   "file_extension": ".py",
   "mimetype": "text/x-python",
   "name": "python",
   "nbconvert_exporter": "python",
   "pygments_lexer": "ipython3",
   "version": "3.7.4"
  }
 },
 "nbformat": 4,
 "nbformat_minor": 2
}
