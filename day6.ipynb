{
 "cells": [
  {
   "cell_type": "markdown",
   "metadata": {},
   "source": [
    "# tuples"
   ]
  },
  {
   "cell_type": "code",
   "execution_count": 1,
   "metadata": {},
   "outputs": [
    {
     "data": {
      "text/plain": [
       "tuple"
      ]
     },
     "execution_count": 1,
     "metadata": {},
     "output_type": "execute_result"
    }
   ],
   "source": [
    "t=(10,20,\"str\",56,45,56 )\n",
    "type(t)"
   ]
  },
  {
   "cell_type": "code",
   "execution_count": 110,
   "metadata": {},
   "outputs": [
    {
     "ename": "SyntaxError",
     "evalue": "invalid syntax (<ipython-input-110-391e34abf631>, line 1)",
     "output_type": "error",
     "traceback": [
      "\u001b[1;36m  File \u001b[1;32m\"<ipython-input-110-391e34abf631>\"\u001b[1;36m, line \u001b[1;32m1\u001b[0m\n\u001b[1;33m    a=(,)\u001b[0m\n\u001b[1;37m       ^\u001b[0m\n\u001b[1;31mSyntaxError\u001b[0m\u001b[1;31m:\u001b[0m invalid syntax\n"
     ]
    }
   ],
   "source": [
    "a=()\n",
    "type(a)"
   ]
  },
  {
   "cell_type": "code",
   "execution_count": 2,
   "metadata": {},
   "outputs": [
    {
     "name": "stdout",
     "output_type": "stream",
     "text": [
      "2\n",
      "2\n"
     ]
    }
   ],
   "source": [
    "# built in methods\n",
    "print(t.count(56))\n",
    "print(t.index(\"str\"))"
   ]
  },
  {
   "cell_type": "code",
   "execution_count": 3,
   "metadata": {},
   "outputs": [
    {
     "name": "stdout",
     "output_type": "stream",
     "text": [
      "56\n",
      "6\n",
      "5\n"
     ]
    }
   ],
   "source": [
    "# built in functions\n",
    "t1=(34,6,56,45,56)\n",
    "print(max(t1))\n",
    "print(min(t1))\n",
    "print(len(t1))\n"
   ]
  },
  {
   "cell_type": "code",
   "execution_count": 11,
   "metadata": {},
   "outputs": [
    {
     "data": {
      "text/plain": [
       "[34, 6, 56, 45, 56]"
      ]
     },
     "execution_count": 11,
     "metadata": {},
     "output_type": "execute_result"
    }
   ],
   "source": [
    "# changing tuple to list and list to tuple\n",
    "l1=list(t1)\n",
    "l1"
   ]
  },
  {
   "cell_type": "code",
   "execution_count": 12,
   "metadata": {
    "scrolled": true
   },
   "outputs": [
    {
     "data": {
      "text/plain": [
       "(34, 6, 56, 45, 56)"
      ]
     },
     "execution_count": 12,
     "metadata": {},
     "output_type": "execute_result"
    }
   ],
   "source": [
    "t1=tuple(l1)\n",
    "t1"
   ]
  },
  {
   "cell_type": "markdown",
   "metadata": {},
   "source": [
    "### sets are using curli brackets \n",
    "### sets are un orderd\n",
    "### sets are doesent allow duplicate values \n",
    "### sets are un indexes\n",
    "### sets are allows any values\n"
   ]
  },
  {
   "cell_type": "markdown",
   "metadata": {},
   "source": [
    "# built in methods in sets\n"
   ]
  },
  {
   "cell_type": "code",
   "execution_count": 111,
   "metadata": {},
   "outputs": [
    {
     "data": {
      "text/plain": [
       "{10, 20, 30, 40}"
      ]
     },
     "execution_count": 111,
     "metadata": {},
     "output_type": "execute_result"
    }
   ],
   "source": [
    "#add \n",
    "# adding the element to the set\n",
    "a={10,20,30}\n",
    "a.add(40)\n",
    "a"
   ]
  },
  {
   "cell_type": "code",
   "execution_count": 4,
   "metadata": {},
   "outputs": [
    {
     "data": {
      "text/plain": [
       "set()"
      ]
     },
     "execution_count": 4,
     "metadata": {},
     "output_type": "execute_result"
    }
   ],
   "source": [
    "#clear\n",
    "#The clear() method removes all elements in a set.\n",
    "#syntax:set.clear()\n",
    "a.clear()\n",
    "a"
   ]
  },
  {
   "cell_type": "code",
   "execution_count": null,
   "metadata": {},
   "outputs": [],
   "source": []
  },
  {
   "cell_type": "code",
   "execution_count": 3,
   "metadata": {},
   "outputs": [
    {
     "name": "stdout",
     "output_type": "stream",
     "text": [
      "{40, 10, 20, 30}\n",
      "{40, 10, 20, 30}\n"
     ]
    }
   ],
   "source": [
    "#copy\n",
    "#The copy() method copies the set.\n",
    "#syntax:set.copy()\n",
    "a={10,20,30,40}\n",
    "c=a.copy()\n",
    "c\n",
    "print(a)\n",
    "print(c)"
   ]
  },
  {
   "cell_type": "code",
   "execution_count": 81,
   "metadata": {},
   "outputs": [
    {
     "data": {
      "text/plain": [
       "{40}"
      ]
     },
     "execution_count": 81,
     "metadata": {},
     "output_type": "execute_result"
    }
   ],
   "source": [
    "#difference\n",
    "#The difference() method returns a set that contains the difference between two sets.\n",
    "\n",
    "#Meaning: The returned set contains items that exist only in the first set, and not in both sets.\n",
    "#syntax:set.difference(set)\n",
    "a={10,20,30,40,50}\n",
    "b={50,60,10,20,30}\n",
    "a.difference(b)"
   ]
  },
  {
   "cell_type": "code",
   "execution_count": 16,
   "metadata": {},
   "outputs": [
    {
     "name": "stdout",
     "output_type": "stream",
     "text": [
      "{10}\n",
      "{40, 50, 20, 30}\n"
     ]
    }
   ],
   "source": [
    "#difference_update()\n",
    "#The difference_update() method removes the items that exist in both sets.\n",
    "#The difference_update() method is different from the difference() method, because the difference() method returns a new set, without the unwanted items, and the difference_update() method removes the unwanted items from the original set.\n",
    "#set.difference_update(set)\n",
    "a={10,20,30,40}\n",
    "b={20,30,40,50}\n",
    "a.difference_update(b)\n",
    "print(a)\n",
    "print(b)\n",
    "\n"
   ]
  },
  {
   "cell_type": "code",
   "execution_count": 22,
   "metadata": {},
   "outputs": [
    {
     "data": {
      "text/plain": [
       "{20, 30, 40}"
      ]
     },
     "execution_count": 22,
     "metadata": {},
     "output_type": "execute_result"
    }
   ],
   "source": [
    "#discard()\n",
    "#The discard() method removes the specified item from the set.\n",
    "#This method is different from the remove() method, \n",
    "#because the remove() method will raise an error if the specified item does not exist,\n",
    "#and the discard() method will not.\n",
    "\n",
    "#syntax:set.discard(value)\n",
    "a={10,20,30,40}\n",
    "a.discard(10)\n",
    "a"
   ]
  },
  {
   "cell_type": "code",
   "execution_count": 24,
   "metadata": {},
   "outputs": [
    {
     "name": "stdout",
     "output_type": "stream",
     "text": [
      "a= {40, 10, 20, 30}\n",
      "b= {40, 50, 20, 60}\n",
      "c= {40, 10, 20, 30}\n"
     ]
    }
   ],
   "source": [
    "print(\"a=\",a)\n",
    "print(\"b=\",b)\n",
    "print(\"c=\",c)"
   ]
  },
  {
   "cell_type": "code",
   "execution_count": 30,
   "metadata": {},
   "outputs": [
    {
     "data": {
      "text/plain": [
       "{10, 20, 30, 40}"
      ]
     },
     "execution_count": 30,
     "metadata": {},
     "output_type": "execute_result"
    }
   ],
   "source": [
    "#intersection()\n",
    "#The intersection() method returns a set that contains the similarity between two or more sets.\n",
    "#Meaning: The returned set contains only items that exist in both sets,\n",
    "#or in all sets if the comparison is done with more than two sets.\n",
    "#syntax:set.intersection(set1, set2 ... etc)\n",
    "a={10,20,30,40}\n",
    "b={20,40,50,60}\n",
    "a.intersection(b)\n"
   ]
  },
  {
   "cell_type": "code",
   "execution_count": 31,
   "metadata": {},
   "outputs": [
    {
     "data": {
      "text/plain": [
       "{20, 40}"
      ]
     },
     "execution_count": 31,
     "metadata": {},
     "output_type": "execute_result"
    }
   ],
   "source": [
    "#intersection_update()\n",
    "#The intersection_update() method removes the items that is not present in both sets\n",
    "#(or in all sets if the comparison is done between more than two sets).\n",
    "#The intersection_update() method is different from the intersection() method, \n",
    "#because the intersection() method returns a new set, without the unwanted items,\n",
    "#and the intersection_update() method removes the unwanted items from the original set.\n",
    "#syntax:set.intersection_update(set1, set2 ... etc)\n",
    "a.intersection_update(b)\n",
    "a"
   ]
  },
  {
   "cell_type": "code",
   "execution_count": 37,
   "metadata": {},
   "outputs": [
    {
     "data": {
      "text/plain": [
       "False"
      ]
     },
     "execution_count": 37,
     "metadata": {},
     "output_type": "execute_result"
    }
   ],
   "source": [
    "#isdisjoint()\n",
    "#The isdisjoint() method returns True if none of the items are present in both sets, otherwise it returns False.\n",
    "#Syntax:set.isdisjoint(set)\n",
    "a={10,20,30,40}\n",
    "b={20,30,40,50}\n",
    "a.isdisjoint(b)\n"
   ]
  },
  {
   "cell_type": "code",
   "execution_count": 39,
   "metadata": {},
   "outputs": [
    {
     "data": {
      "text/plain": [
       "True"
      ]
     },
     "execution_count": 39,
     "metadata": {},
     "output_type": "execute_result"
    }
   ],
   "source": [
    "a={10,20,30,40}\n",
    "b={50,60,70,80}\n",
    "a.isdisjoint(b)"
   ]
  },
  {
   "cell_type": "code",
   "execution_count": 57,
   "metadata": {},
   "outputs": [
    {
     "data": {
      "text/plain": [
       "True"
      ]
     },
     "execution_count": 57,
     "metadata": {},
     "output_type": "execute_result"
    }
   ],
   "source": [
    "#issubset()\n",
    "#The issubset() method returns True if all items in the set exists in the specified set, otherwise it retuns False.\n",
    "#syntax:set.issubset(set)\n",
    "a={10,20,30,40}\n",
    "b={10,20,30,40,60}\n",
    "a.issubset(b)"
   ]
  },
  {
   "cell_type": "code",
   "execution_count": 43,
   "metadata": {},
   "outputs": [
    {
     "data": {
      "text/plain": [
       "False"
      ]
     },
     "execution_count": 43,
     "metadata": {},
     "output_type": "execute_result"
    }
   ],
   "source": [
    "a={10,20,30,40}\n",
    "b={40,50}\n",
    "a.issubset(b)"
   ]
  },
  {
   "cell_type": "code",
   "execution_count": 56,
   "metadata": {},
   "outputs": [
    {
     "data": {
      "text/plain": [
       "True"
      ]
     },
     "execution_count": 56,
     "metadata": {},
     "output_type": "execute_result"
    }
   ],
   "source": [
    "#issuperset()\n",
    "#The issuperset() method returns True if all items in the specified set exists in the original set, otherwise it retuns False.\n",
    "#syntax\n",
    "#x.issuperset(y)\n",
    "x = {\"f\", \"e\", \"d\", \"c\", \"b\", \"a\"}\n",
    "y = {\"f\", \"e\", \"d\",\"c\"}\n",
    "x.issuperset(y)\n",
    "   \n"
   ]
  },
  {
   "cell_type": "code",
   "execution_count": 66,
   "metadata": {},
   "outputs": [
    {
     "data": {
      "text/plain": [
       "40"
      ]
     },
     "execution_count": 66,
     "metadata": {},
     "output_type": "execute_result"
    }
   ],
   "source": [
    "#pop()\n",
    "#The pop() method removes a random item from the set.\n",
    "#This method returns the removed item.\n",
    "#because indexing not present\n",
    "#syntax:set.pop()\n",
    "a={10,20,30,40,50,60}\n",
    "a.pop()"
   ]
  },
  {
   "cell_type": "code",
   "execution_count": 73,
   "metadata": {},
   "outputs": [
    {
     "data": {
      "text/plain": [
       "set()"
      ]
     },
     "execution_count": 73,
     "metadata": {},
     "output_type": "execute_result"
    }
   ],
   "source": [
    "a"
   ]
  },
  {
   "cell_type": "code",
   "execution_count": 77,
   "metadata": {},
   "outputs": [
    {
     "data": {
      "text/plain": [
       "{20, 30, 40}"
      ]
     },
     "execution_count": 77,
     "metadata": {},
     "output_type": "execute_result"
    }
   ],
   "source": [
    "#remove()\n",
    "#The remove() method removes the specified element from the set.\n",
    "#This method is different from the discard() method,\n",
    "#because the remove() method will raise an error if the specified item does not exist,\n",
    "#and the discard() method will not.\n",
    "#syntax:set.remove(item)\n",
    "a={10,20,30,40}\n",
    "a.remove(10)\n",
    "a"
   ]
  },
  {
   "cell_type": "code",
   "execution_count": 85,
   "metadata": {},
   "outputs": [
    {
     "data": {
      "text/plain": [
       "{10, 20, 30, 40, 50, 90, 100, 200, 300}"
      ]
     },
     "execution_count": 85,
     "metadata": {},
     "output_type": "execute_result"
    }
   ],
   "source": [
    "#symmetric_difference()\n",
    "#The symmetric_difference() method returns a set that contains all items from both set,\n",
    "#but not the items that are present in both sets.\n",
    "#Meaning: The returned set contains a mix of items that are not present in both sets.\n",
    "#syntax:set.symmetric_difference(set)\n",
    "a={10,20,30,40,50}\n",
    "b={90,100,200,300}\n",
    "a.symmetric_difference(b)"
   ]
  },
  {
   "cell_type": "code",
   "execution_count": 90,
   "metadata": {},
   "outputs": [
    {
     "data": {
      "text/plain": [
       "{10, 20, 30, 40, 50, 90, 100, 200, 300}"
      ]
     },
     "execution_count": 90,
     "metadata": {},
     "output_type": "execute_result"
    }
   ],
   "source": [
    "#symmetric_difference_update()\n",
    "#The symmetric_difference_update() method updates the original set by removing items that are present in both sets, \n",
    "#and inserting the other items.\n",
    "a={10,20,30,40,50}\n",
    "b={90,100,200,300}\n",
    "a.symmetric_difference_update(b)\n",
    "a\n"
   ]
  },
  {
   "cell_type": "code",
   "execution_count": 95,
   "metadata": {},
   "outputs": [
    {
     "data": {
      "text/plain": [
       "{10, 20, 30, 40, 50, 90, 100, 200, 300}"
      ]
     },
     "execution_count": 95,
     "metadata": {},
     "output_type": "execute_result"
    }
   ],
   "source": [
    "#union()\n",
    "#The union() method returns a set that contains all items from the original set, and all items from the specified sets.\n",
    "#You can specify as many sets you want, separated by commas.\n",
    "#If an item is present in more than one set, the result will contain only one appearance of this item.\n",
    "#syntax:set.union(set1, set2...)\n",
    "a={10,20,30,40,50}\n",
    "b={90,100,200,300}\n",
    "b.union(a)\n"
   ]
  },
  {
   "cell_type": "code",
   "execution_count": 103,
   "metadata": {},
   "outputs": [
    {
     "data": {
      "text/plain": [
       "{10, 20, 30, 40, 50, 90, 100, 200, 300}"
      ]
     },
     "execution_count": 103,
     "metadata": {},
     "output_type": "execute_result"
    }
   ],
   "source": [
    "#update()\n",
    "#The update() method updates the current set, by adding items from another set.\n",
    "#If an item is present in both sets, only one appearance of this item will be present in the updated set.\n",
    "a={10,20,30,40,50}\n",
    "b={90,100,200,300}\n",
    "a.update(b)\n",
    "a\n"
   ]
  },
  {
   "cell_type": "code",
   "execution_count": 106,
   "metadata": {},
   "outputs": [
    {
     "name": "stdout",
     "output_type": "stream",
     "text": [
      "{100, 40, 200, 10, 300, 50, 20, 90, 30}\n"
     ]
    }
   ],
   "source": [
    "print(a)"
   ]
  },
  {
   "cell_type": "markdown",
   "metadata": {},
   "source": [
    "# dictionary\n",
    "### dictionaries are collection of key-value pairs,each key-value pair is known as entry\n",
    "# key:\n",
    "### key should be unique\n",
    "### key should be immutable"
   ]
  },
  {
   "cell_type": "code",
   "execution_count": 115,
   "metadata": {},
   "outputs": [
    {
     "data": {
      "text/plain": [
       "{'name': 'manoj', 'age': '22', 'Course': 'python'}"
      ]
     },
     "execution_count": 115,
     "metadata": {},
     "output_type": "execute_result"
    }
   ],
   "source": [
    "a={\"name\":\"manoj\",\"age\":\"22\",\"Course\":\"python\"}\n",
    "a"
   ]
  },
  {
   "cell_type": "code",
   "execution_count": 117,
   "metadata": {},
   "outputs": [
    {
     "data": {
      "text/plain": [
       "{'name': 'manoj', 'age': '22', 'Course': 'python', 'sir name': 'repudi'}"
      ]
     },
     "execution_count": 117,
     "metadata": {},
     "output_type": "execute_result"
    }
   ],
   "source": [
    "a[\"sir name\"]=\"repudi\"\n",
    "a"
   ]
  },
  {
   "cell_type": "code",
   "execution_count": 7,
   "metadata": {},
   "outputs": [
    {
     "data": {
      "text/plain": [
       "{'name': 'manoj', 'age': '22', 'Course': 'python'}"
      ]
     },
     "execution_count": 7,
     "metadata": {},
     "output_type": "execute_result"
    }
   ],
   "source": [
    "a={'name': 'manoj', 'age': '22', 'Course': 'python', 'sir name': 'repudi'}\n",
    "del a[\"sir name\"]\n",
    "a"
   ]
  },
  {
   "cell_type": "code",
   "execution_count": 8,
   "metadata": {},
   "outputs": [
    {
     "name": "stdout",
     "output_type": "stream",
     "text": [
      "enter how many students u want2\n",
      "enter namemanoj\n",
      "enter age2\n",
      "enter namesiri\n",
      "enter age1\n"
     ]
    },
    {
     "data": {
      "text/plain": [
       "[{'name': 'manoj', 'age': 2}, {'name': 'siri', 'age': 1}]"
      ]
     },
     "execution_count": 8,
     "metadata": {},
     "output_type": "execute_result"
    }
   ],
   "source": [
    "a=int(input(\"enter how many students u want\"))\n",
    "l=[]\n",
    "for i in (1,a+1):\n",
    "    d={\"name\":input(\"enter name\"),\"age\":int(input(\"enter age\"))}\n",
    "    l.append(d)\n",
    "l    \n",
    "    "
   ]
  },
  {
   "cell_type": "code",
   "execution_count": 6,
   "metadata": {},
   "outputs": [
    {
     "data": {
      "text/plain": [
       "{}"
      ]
     },
     "execution_count": 6,
     "metadata": {},
     "output_type": "execute_result"
    }
   ],
   "source": [
    "#clear()\n",
    "#The clear() method removes all the elements from a dictionary.\n",
    "#syntax:dictionary.clear()\n",
    "a={\"name\":\"manoj\",\"age\":\"22\"}\n",
    "a.clear()\n",
    "a"
   ]
  },
  {
   "cell_type": "code",
   "execution_count": 12,
   "metadata": {},
   "outputs": [
    {
     "data": {
      "text/plain": [
       "{'name': 'manoj', 'age': '22'}"
      ]
     },
     "execution_count": 12,
     "metadata": {},
     "output_type": "execute_result"
    }
   ],
   "source": [
    "# copy()\n",
    "#The copy() method returns a copy of the specified dictionary.\n",
    "#syntax:dictionary.copy()\n",
    "a={\"name\":\"manoj\",\"age\":\"22\"}\n",
    "b=a.copy()\n",
    "b"
   ]
  },
  {
   "cell_type": "code",
   "execution_count": 14,
   "metadata": {},
   "outputs": [
    {
     "name": "stdout",
     "output_type": "stream",
     "text": [
      "{}\n",
      "{'name': 'manoj', 'age': '22'}\n"
     ]
    }
   ],
   "source": [
    "a.clear()\n",
    "print(a)\n",
    "print(b)"
   ]
  },
  {
   "cell_type": "code",
   "execution_count": 28,
   "metadata": {},
   "outputs": [
    {
     "data": {
      "text/plain": [
       "{'name': ('siri', '22'), 'age': ('siri', '22')}"
      ]
     },
     "execution_count": 28,
     "metadata": {},
     "output_type": "execute_result"
    }
   ],
   "source": [
    "#fromkeys()\n",
    "#The fromkeys() method returns a dictionary with the specified keys and values.\n",
    "#syntax:dict.fromkeys(keys, value)\n",
    "a=(\"name\",\"age\")\n",
    "b=(\"siri\",\"22\")\n",
    "c=dict.fromkeys(a,b)\n",
    "c\n"
   ]
  },
  {
   "cell_type": "code",
   "execution_count": 49,
   "metadata": {},
   "outputs": [
    {
     "name": "stdout",
     "output_type": "stream",
     "text": [
      "15000\n"
     ]
    }
   ],
   "source": [
    "car = { \"brand\": \"Ford\",\"model\": \"Mustang\",\"year\": 1964}\n",
    "x = car.get(\"price\", 15000)\n",
    "print(x)\n"
   ]
  },
  {
   "cell_type": "code",
   "execution_count": 50,
   "metadata": {},
   "outputs": [
    {
     "name": "stdout",
     "output_type": "stream",
     "text": [
      "{'model': 'Mustang', 'year': 1964}\n"
     ]
    }
   ],
   "source": [
    "car = {\n",
    "  \"brand\": \"Ford\",\n",
    "  \"model\": \"Mustang\",\n",
    "  \"year\": 1964\n",
    "}\n",
    "\n",
    "car.pop(\"brand\")\n",
    "\n",
    "print(car)"
   ]
  },
  {
   "cell_type": "code",
   "execution_count": 48,
   "metadata": {},
   "outputs": [
    {
     "name": "stdout",
     "output_type": "stream",
     "text": [
      "{'brand': 'Ford', 'model': 'Mustang', 'year': 1964}\n"
     ]
    }
   ],
   "source": [
    "car = {\n",
    "  \"brand\": \"Ford\",\n",
    "  \"model\": \"Mustang\",\n",
    "  \"year\": 1964,\"price\":1500\n",
    "}\n",
    "\n",
    "car.popitem()\n",
    "\n",
    "print(car)\n"
   ]
  },
  {
   "cell_type": "code",
   "execution_count": 3,
   "metadata": {},
   "outputs": [
    {
     "name": "stdout",
     "output_type": "stream",
     "text": [
      "15000\n"
     ]
    }
   ],
   "source": [
    "car = {\n",
    "  \"brand\": \"Ford\",\n",
    "  \"model\": \"Mustang\",\n",
    "  \"year\": 1964\n",
    "}\n",
    "\n",
    "x = car.setdefault(\"price\", \"15000\")\n",
    "\n",
    "print(x)"
   ]
  }
 ],
 "metadata": {
  "kernelspec": {
   "display_name": "Python 3",
   "language": "python",
   "name": "python3"
  },
  "language_info": {
   "codemirror_mode": {
    "name": "ipython",
    "version": 3
   },
   "file_extension": ".py",
   "mimetype": "text/x-python",
   "name": "python",
   "nbconvert_exporter": "python",
   "pygments_lexer": "ipython3",
   "version": "3.7.4"
  }
 },
 "nbformat": 4,
 "nbformat_minor": 2
}
