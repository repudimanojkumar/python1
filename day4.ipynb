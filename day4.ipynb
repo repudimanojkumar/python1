{
 "cells": [
  {
   "cell_type": "code",
   "execution_count": 3,
   "metadata": {},
   "outputs": [
    {
     "name": "stdout",
     "output_type": "stream",
     "text": [
      "enter a no6\n",
      "1\n",
      "2\n",
      "3\n",
      "6\n"
     ]
    }
   ],
   "source": [
    "## Read a number as input and Print the Output as Factors of the given number\n",
    "###Example #1:\n",
    "##Input : 6\n",
    "##Output : 1 2 3 6\n",
    "##Example #2 :\n",
    "##Input : 12\n",
    "##Output : 1 2 3 4 6 12\n",
    "n=int(input(\"enter a no\"))\n",
    "a=1\n",
    "while n+1>=a:\n",
    "    if n%a==0:\n",
    "        print(a)\n",
    "    a=a+1    "
   ]
  },
  {
   "cell_type": "code",
   "execution_count": null,
   "metadata": {},
   "outputs": [],
   "source": [
    "#Read the Input as Number and Print the Output as True or False. If the input number is Prime then Print True otherwise print Fasle\n",
    "#Example #1:\n",
    "#Input : 11\n",
    "#Output : True\n",
    "#Example #2:\n",
    "#Input : 10\n",
    "#Output ; False\n",
    "a=int(input(\"enter a no\"))\n",
    "i=2\n",
    "count=0\n",
    "while a>i:\n",
    "    if a%i==0:\n",
    "        count=count+1\n",
    "    i=i+1\n",
    "if count==0:\n",
    "    print(\"true\")\n",
    "else:\n",
    "    print(\"false\")\n",
    "        \n",
    "    "
   ]
  },
  {
   "cell_type": "code",
   "execution_count": 2,
   "metadata": {},
   "outputs": [
    {
     "name": "stdout",
     "output_type": "stream",
     "text": [
      "enter any no1\n",
      "enter any no10\n",
      "2\n",
      "3\n",
      "5\n",
      "7\n",
      "-------\n",
      "4\n"
     ]
    }
   ],
   "source": [
    "#Read the input as number N and Print the output as Prime number count between 1 to N\n",
    "#Example #1;\n",
    "#Input : 10\n",
    "#Output : 4 (2,3,5,7)\n",
    "n1=int(input(\"enter any no\"))\n",
    "n2=int(input(\"enter any no\"))\n",
    "c=0\n",
    "while n1<=n2:\n",
    "    i=2\n",
    "    count=0\n",
    "    while i<n1:\n",
    "        if n1%i==0:\n",
    "            count=count+1\n",
    "        i=i+1\n",
    "    if count==0 and n1!=1:\n",
    "        c+=1\n",
    "        print(n1)\n",
    "    n1+=1\n",
    "print(\"-------\")\n",
    "\n",
    "print(c)\n",
    "    \n",
    "\n"
   ]
  },
  {
   "cell_type": "code",
   "execution_count": 6,
   "metadata": {},
   "outputs": [
    {
     "name": "stdout",
     "output_type": "stream",
     "text": [
      "please enter the minimum value:1\n",
      " Please Enter the Maximum Value : 10\n",
      "1 2 3 4 5 6 7 8 9 \n",
      "\n",
      "9\n"
     ]
    }
   ],
   "source": [
    "#Read the input as two limits and Print the output as Palindrome count between the two limits\n",
    "#Example #1;\n",
    "#Input : 1 10\n",
    "#Output : 9\n",
    "#Example #2:\n",
    "#Input : 1 100\n",
    "#Output : 18\n",
    "n1=int(input(\"please enter the minimum value:\")) \n",
    "n2 = int(input(\" Please Enter the Maximum Value : \"))\n",
    "c=0\n",
    "while n1<n2 + 1:\n",
    "    temp = n1\n",
    "    rev = 0\n",
    "    \n",
    "    while temp > 0:\n",
    "        Rem = temp % 10\n",
    "        rev = rev * 10+ Rem\n",
    "        temp=temp//10\n",
    "        \n",
    "\n",
    "    if n1 == rev:\n",
    "        print(n1,end=\" \")\n",
    "        c=c+1\n",
    "    n1=n1+1\n",
    "print(\"\\n\")\n",
    "print(c)"
   ]
  },
  {
   "cell_type": "code",
   "execution_count": 69,
   "metadata": {},
   "outputs": [
    {
     "name": "stdout",
     "output_type": "stream",
     "text": [
      "enter any no888\n",
      "6\n"
     ]
    }
   ],
   "source": [
    "#Read the input as number and Print the output as Count of Triangles and Circles in the given number\n",
    "#Example #1 :\n",
    "#Input : 12854 \n",
    "#Output : 3\n",
    "#Example #2:\n",
    "#Input : 888\n",
    "#Output : 6\n",
    "n=int(input(\"enter any no\"))\n",
    "c=0\n",
    "while n>0:\n",
    "    r=n%10\n",
    "    if r==4:\n",
    "        c+=1\n",
    "    elif r==8:\n",
    "        c+=2\n",
    "    elif r==0 or r==6 or r==9:\n",
    "        c+=1\n",
    "    n=n//10\n",
    "print(c)    \n",
    "    \n",
    "    "
   ]
  },
  {
   "cell_type": "code",
   "execution_count": 1,
   "metadata": {},
   "outputs": [
    {
     "name": "stdout",
     "output_type": "stream",
     "text": [
      "enter a string:Application\n",
      "enter a character:p\n"
     ]
    },
    {
     "data": {
      "text/plain": [
       "2"
      ]
     },
     "execution_count": 1,
     "metadata": {},
     "output_type": "execute_result"
    }
   ],
   "source": [
    "#Read the string and char as input and Print no of occurance of character in the given string\n",
    "#Example #1;\n",
    "#Input : Application,p\n",
    "#Output : 2\n",
    "a=input(\"enter a string:\")\n",
    "b=input(\"enter a character:\")\n",
    "a.count(b)"
   ]
  },
  {
   "cell_type": "code",
   "execution_count": 53,
   "metadata": {},
   "outputs": [
    {
     "name": "stdout",
     "output_type": "stream",
     "text": [
      "enter a stringPythonProgrMMINg\n",
      "p Y T H O N p H O G H m m i n G"
     ]
    }
   ],
   "source": [
    "#Read the string as input and Print the output following the manner\n",
    "#Example #1:\n",
    "#Input: PythonProgrMMINg \n",
    "#Output: pYTHONpROGRmminG\n",
    "a=input(\"enter a string\")\n",
    "for i in range a:\n",
    "    if  \n",
    "a=chr(80+32)\n",
    "b=chr(121-32)\n",
    "c=chr(116-32)\n",
    "d=chr(104-32)\n",
    "e=chr(111-32)\n",
    "f=chr(110-32)\n",
    "g=chr(80+32)\n",
    "h=chr(104-32)\n",
    "i=chr(111-32)\n",
    "j=chr(103-32)\n",
    "k=chr(104-32)\n",
    "l=chr(77+32)\n",
    "m=chr(77+32)\n",
    "n=chr(73+32)\n",
    "o=chr(78+32)\n",
    "p=chr(103-32)\n",
    "print(a,b,c,d,e,f,g,h,i,j,k,l,m,n,o,p)"
   ]
  },
  {
   "cell_type": "code",
   "execution_count": 8,
   "metadata": {},
   "outputs": [
    {
     "name": "stdout",
     "output_type": "stream",
     "text": [
      "\n",
      "Here is a list of the Python keywords.  Enter any keyword to get more help.\n",
      "\n",
      "False               class               from                or\n",
      "None                continue            global              pass\n",
      "True                def                 if                  raise\n",
      "and                 del                 import              return\n",
      "as                  elif                in                  try\n",
      "assert              else                is                  while\n",
      "async               except              lambda              with\n",
      "await               finally             nonlocal            yield\n",
      "break               for                 not                 \n",
      "\n"
     ]
    }
   ],
   "source": [
    "help('keywords')"
   ]
  },
  {
   "cell_type": "code",
   "execution_count": 9,
   "metadata": {},
   "outputs": [
    {
     "data": {
      "text/plain": [
       "'a'"
      ]
     },
     "execution_count": 9,
     "metadata": {},
     "output_type": "execute_result"
    }
   ],
   "source": [
    "chr(97)"
   ]
  },
  {
   "cell_type": "code",
   "execution_count": 26,
   "metadata": {
    "scrolled": true
   },
   "outputs": [
    {
     "name": "stdout",
     "output_type": "stream",
     "text": [
      "Enter string:manoj\n",
      " not a palindrome\n"
     ]
    }
   ],
   "source": [
    "# check whether the given string is palindrome or not:-\n",
    "a=input(\"Enter string:\")\n",
    "if a==a[-1::-1]:\n",
    "      print(\" palindrome\")\n",
    "else:\n",
    "      print(\" not a palindrome\")"
   ]
  },
  {
   "cell_type": "code",
   "execution_count": 25,
   "metadata": {},
   "outputs": [
    {
     "name": "stdout",
     "output_type": "stream",
     "text": [
      "[1, 2, 3, 4, 5]\n"
     ]
    }
   ],
   "source": [
    "# converting string into a list:-\n",
    "a=\"1 2 3 4 5\"\n",
    "x=a.split()\n",
    "x\n",
    "y=[]\n",
    "for i in x:\n",
    "    y.append(int(i))\n",
    "print(y)    "
   ]
  },
  {
   "cell_type": "code",
   "execution_count": 38,
   "metadata": {},
   "outputs": [
    {
     "data": {
      "text/plain": [
       "'sai raj'"
      ]
     },
     "execution_count": 38,
     "metadata": {},
     "output_type": "execute_result"
    }
   ],
   "source": [
    "#program for checking the second largest string from the given list:=\n",
    "write a python program to convert the string to list Test Case\n",
    "a=[\"manoj\",\"sai raj\",\"sirisha\",\"preeti\",\"priya\"]\n",
    "b=[]\n",
    "for i in a:\n",
    "    b.append(len(i))\n",
    "c=b.copy()\n",
    "b.sort()\n",
    "a[c.index(b[-2])]\n",
    "\n",
    "\n"
   ]
  },
  {
   "cell_type": "code",
   "execution_count": 1,
   "metadata": {},
   "outputs": [
    {
     "name": "stdout",
     "output_type": "stream",
     "text": [
      "enter a stringmanoj\n",
      "obopo"
     ]
    }
   ],
   "source": [
    "#program for printing the vowel for the consonent and consonent to the vowel:=\n",
    "str1=input(\"enter a string\")\n",
    "vowels=\"aeiou\"\n",
    "for i in str1:\n",
    "    if i in vowels:\n",
    "        print(chr(ord(i)+1),end=\"\")\n",
    "    else:\n",
    "        if ord(i)>97 and ord(i)<101:\n",
    "            print(\"e\",end=\"\")\n",
    "        elif ord(i)>101 and ord(i)<105:\n",
    "            print(\"i\",end=\"\")\n",
    "        elif ord(i)>105 and ord(i)<111:\n",
    "            print(\"o\",end=\"\")\n",
    "        elif ord(i)>111 and ord(i)<117:\n",
    "            print(\"u\",end=\"\")\n",
    "        else:\n",
    "            print(\"a\",end=\"\")\n",
    "                    "
   ]
  },
  {
   "cell_type": "code",
   "execution_count": null,
   "metadata": {},
   "outputs": [],
   "source": []
  }
 ],
 "metadata": {
  "kernelspec": {
   "display_name": "Python 3",
   "language": "python",
   "name": "python3"
  },
  "language_info": {
   "codemirror_mode": {
    "name": "ipython",
    "version": 3
   },
   "file_extension": ".py",
   "mimetype": "text/x-python",
   "name": "python",
   "nbconvert_exporter": "python",
   "pygments_lexer": "ipython3",
   "version": "3.7.4"
  }
 },
 "nbformat": 4,
 "nbformat_minor": 2
}
